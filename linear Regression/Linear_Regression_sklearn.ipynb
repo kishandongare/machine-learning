{
 "cells": [
  {
   "cell_type": "code",
   "execution_count": 3,
   "metadata": {
    "id": "rLBcFzxGUKPw"
   },
   "outputs": [],
   "source": [
    "import numpy as np\n",
    "import pandas as pd\n",
    "pd.set_option('display.max_rows',100)"
   ]
  },
  {
   "cell_type": "code",
   "execution_count": 4,
   "metadata": {
    "id": "l20Zd4f8UhZn"
   },
   "outputs": [],
   "source": [
    "df = pd.read_csv('Bikes.csv')"
   ]
  },
  {
   "cell_type": "code",
   "execution_count": 5,
   "metadata": {
    "colab": {
     "base_uri": "https://localhost:8080/",
     "height": 198
    },
    "id": "hNSoRWrhUqT1",
    "outputId": "23c924b3-cda6-4333-adb2-0e18b3245aff"
   },
   "outputs": [
    {
     "name": "stdout",
     "output_type": "stream",
     "text": [
      "                                  bike_name     price       city  kms_driven  \\\n",
      "0        TVS Star City Plus Dual Tone 110cc   35000.0  Ahmedabad     17654.0   \n",
      "1               Royal Enfield Classic 350cc  119900.0      Delhi     11000.0   \n",
      "2                      Triumph Daytona 675R  600000.0      Delhi       110.0   \n",
      "3                      TVS Apache RTR 180cc   65000.0  Bangalore     16329.0   \n",
      "4      Yamaha FZ S V 2.0 150cc-Ltd. Edition   80000.0  Bangalore     10000.0   \n",
      "...                                     ...       ...        ...         ...   \n",
      "32643                Hero Passion Pro 100cc   39000.0      Delhi     22000.0   \n",
      "32644                  TVS Apache RTR 180cc   30000.0     Karnal      6639.0   \n",
      "32645              Bajaj Avenger Street 220   60000.0      Delhi     20373.0   \n",
      "32646             Hero Super Splendor 125cc   15600.0     Jaipur     84186.0   \n",
      "32647                    Bajaj Pulsar 150cc   22000.0       Pune     60857.0   \n",
      "\n",
      "             owner   age  power          brand  \n",
      "0      First Owner   3.0  110.0            TVS  \n",
      "1      First Owner   4.0  350.0  Royal Enfield  \n",
      "2      First Owner   8.0  675.0        Triumph  \n",
      "3      First Owner   4.0  180.0            TVS  \n",
      "4      First Owner   3.0  150.0         Yamaha  \n",
      "...            ...   ...    ...            ...  \n",
      "32643  First Owner   4.0  100.0           Hero  \n",
      "32644  First Owner   9.0  180.0            TVS  \n",
      "32645  First Owner   6.0  220.0          Bajaj  \n",
      "32646  First Owner  16.0  125.0           Hero  \n",
      "32647  First Owner  13.0  150.0          Bajaj  \n",
      "\n",
      "[32648 rows x 8 columns]\n"
     ]
    }
   ],
   "source": [
    "print(df)"
   ]
  },
  {
   "cell_type": "code",
   "execution_count": 6,
   "metadata": {},
   "outputs": [
    {
     "name": "stdout",
     "output_type": "stream",
     "text": [
      "<class 'pandas.core.frame.DataFrame'>\n",
      "RangeIndex: 32648 entries, 0 to 32647\n",
      "Data columns (total 8 columns):\n",
      " #   Column      Non-Null Count  Dtype  \n",
      "---  ------      --------------  -----  \n",
      " 0   bike_name   32648 non-null  object \n",
      " 1   price       32648 non-null  float64\n",
      " 2   city        32648 non-null  object \n",
      " 3   kms_driven  32648 non-null  float64\n",
      " 4   owner       32648 non-null  object \n",
      " 5   age         32648 non-null  float64\n",
      " 6   power       32648 non-null  float64\n",
      " 7   brand       32648 non-null  object \n",
      "dtypes: float64(4), object(4)\n",
      "memory usage: 2.0+ MB\n"
     ]
    }
   ],
   "source": [
    "df.info()"
   ]
  },
  {
   "cell_type": "code",
   "execution_count": 7,
   "metadata": {
    "scrolled": true
   },
   "outputs": [
    {
     "data": {
      "text/html": [
       "<div>\n",
       "<style scoped>\n",
       "    .dataframe tbody tr th:only-of-type {\n",
       "        vertical-align: middle;\n",
       "    }\n",
       "\n",
       "    .dataframe tbody tr th {\n",
       "        vertical-align: top;\n",
       "    }\n",
       "\n",
       "    .dataframe thead th {\n",
       "        text-align: right;\n",
       "    }\n",
       "</style>\n",
       "<table border=\"1\" class=\"dataframe\">\n",
       "  <thead>\n",
       "    <tr style=\"text-align: right;\">\n",
       "      <th></th>\n",
       "      <th>bike_name</th>\n",
       "      <th>price</th>\n",
       "      <th>city</th>\n",
       "      <th>kms_driven</th>\n",
       "      <th>owner</th>\n",
       "      <th>age</th>\n",
       "      <th>power</th>\n",
       "      <th>brand</th>\n",
       "    </tr>\n",
       "  </thead>\n",
       "  <tbody>\n",
       "    <tr>\n",
       "      <th>0</th>\n",
       "      <td>TVS Star City Plus Dual Tone 110cc</td>\n",
       "      <td>35000.0</td>\n",
       "      <td>Ahmedabad</td>\n",
       "      <td>17654.0</td>\n",
       "      <td>First Owner</td>\n",
       "      <td>3.0</td>\n",
       "      <td>110.0</td>\n",
       "      <td>TVS</td>\n",
       "    </tr>\n",
       "    <tr>\n",
       "      <th>1</th>\n",
       "      <td>Royal Enfield Classic 350cc</td>\n",
       "      <td>119900.0</td>\n",
       "      <td>Delhi</td>\n",
       "      <td>11000.0</td>\n",
       "      <td>First Owner</td>\n",
       "      <td>4.0</td>\n",
       "      <td>350.0</td>\n",
       "      <td>Royal Enfield</td>\n",
       "    </tr>\n",
       "    <tr>\n",
       "      <th>2</th>\n",
       "      <td>Triumph Daytona 675R</td>\n",
       "      <td>600000.0</td>\n",
       "      <td>Delhi</td>\n",
       "      <td>110.0</td>\n",
       "      <td>First Owner</td>\n",
       "      <td>8.0</td>\n",
       "      <td>675.0</td>\n",
       "      <td>Triumph</td>\n",
       "    </tr>\n",
       "    <tr>\n",
       "      <th>3</th>\n",
       "      <td>TVS Apache RTR 180cc</td>\n",
       "      <td>65000.0</td>\n",
       "      <td>Bangalore</td>\n",
       "      <td>16329.0</td>\n",
       "      <td>First Owner</td>\n",
       "      <td>4.0</td>\n",
       "      <td>180.0</td>\n",
       "      <td>TVS</td>\n",
       "    </tr>\n",
       "    <tr>\n",
       "      <th>4</th>\n",
       "      <td>Yamaha FZ S V 2.0 150cc-Ltd. Edition</td>\n",
       "      <td>80000.0</td>\n",
       "      <td>Bangalore</td>\n",
       "      <td>10000.0</td>\n",
       "      <td>First Owner</td>\n",
       "      <td>3.0</td>\n",
       "      <td>150.0</td>\n",
       "      <td>Yamaha</td>\n",
       "    </tr>\n",
       "  </tbody>\n",
       "</table>\n",
       "</div>"
      ],
      "text/plain": [
       "                              bike_name     price       city  kms_driven  \\\n",
       "0    TVS Star City Plus Dual Tone 110cc   35000.0  Ahmedabad     17654.0   \n",
       "1           Royal Enfield Classic 350cc  119900.0      Delhi     11000.0   \n",
       "2                  Triumph Daytona 675R  600000.0      Delhi       110.0   \n",
       "3                  TVS Apache RTR 180cc   65000.0  Bangalore     16329.0   \n",
       "4  Yamaha FZ S V 2.0 150cc-Ltd. Edition   80000.0  Bangalore     10000.0   \n",
       "\n",
       "         owner  age  power          brand  \n",
       "0  First Owner  3.0  110.0            TVS  \n",
       "1  First Owner  4.0  350.0  Royal Enfield  \n",
       "2  First Owner  8.0  675.0        Triumph  \n",
       "3  First Owner  4.0  180.0            TVS  \n",
       "4  First Owner  3.0  150.0         Yamaha  "
      ]
     },
     "execution_count": 7,
     "metadata": {},
     "output_type": "execute_result"
    }
   ],
   "source": [
    "df.head()"
   ]
  },
  {
   "cell_type": "code",
   "execution_count": 8,
   "metadata": {
    "scrolled": true
   },
   "outputs": [
    {
     "data": {
      "text/html": [
       "<div>\n",
       "<style scoped>\n",
       "    .dataframe tbody tr th:only-of-type {\n",
       "        vertical-align: middle;\n",
       "    }\n",
       "\n",
       "    .dataframe tbody tr th {\n",
       "        vertical-align: top;\n",
       "    }\n",
       "\n",
       "    .dataframe thead th {\n",
       "        text-align: right;\n",
       "    }\n",
       "</style>\n",
       "<table border=\"1\" class=\"dataframe\">\n",
       "  <thead>\n",
       "    <tr style=\"text-align: right;\">\n",
       "      <th></th>\n",
       "      <th>price</th>\n",
       "      <th>kms_driven</th>\n",
       "      <th>age</th>\n",
       "      <th>power</th>\n",
       "    </tr>\n",
       "  </thead>\n",
       "  <tbody>\n",
       "    <tr>\n",
       "      <th>count</th>\n",
       "      <td>3.264800e+04</td>\n",
       "      <td>32648.000000</td>\n",
       "      <td>32648.000000</td>\n",
       "      <td>32648.000000</td>\n",
       "    </tr>\n",
       "    <tr>\n",
       "      <th>mean</th>\n",
       "      <td>6.829542e+04</td>\n",
       "      <td>26344.625184</td>\n",
       "      <td>8.048211</td>\n",
       "      <td>213.511302</td>\n",
       "    </tr>\n",
       "    <tr>\n",
       "      <th>std</th>\n",
       "      <td>9.071860e+04</td>\n",
       "      <td>22208.527695</td>\n",
       "      <td>4.031700</td>\n",
       "      <td>134.428868</td>\n",
       "    </tr>\n",
       "    <tr>\n",
       "      <th>min</th>\n",
       "      <td>4.400000e+03</td>\n",
       "      <td>1.000000</td>\n",
       "      <td>1.000000</td>\n",
       "      <td>100.000000</td>\n",
       "    </tr>\n",
       "    <tr>\n",
       "      <th>25%</th>\n",
       "      <td>2.500000e+04</td>\n",
       "      <td>12000.000000</td>\n",
       "      <td>5.000000</td>\n",
       "      <td>150.000000</td>\n",
       "    </tr>\n",
       "    <tr>\n",
       "      <th>50%</th>\n",
       "      <td>4.300000e+04</td>\n",
       "      <td>20373.000000</td>\n",
       "      <td>7.000000</td>\n",
       "      <td>150.000000</td>\n",
       "    </tr>\n",
       "    <tr>\n",
       "      <th>75%</th>\n",
       "      <td>8.000000e+04</td>\n",
       "      <td>35000.000000</td>\n",
       "      <td>10.000000</td>\n",
       "      <td>220.000000</td>\n",
       "    </tr>\n",
       "    <tr>\n",
       "      <th>max</th>\n",
       "      <td>1.900000e+06</td>\n",
       "      <td>750000.000000</td>\n",
       "      <td>63.000000</td>\n",
       "      <td>1800.000000</td>\n",
       "    </tr>\n",
       "  </tbody>\n",
       "</table>\n",
       "</div>"
      ],
      "text/plain": [
       "              price     kms_driven           age         power\n",
       "count  3.264800e+04   32648.000000  32648.000000  32648.000000\n",
       "mean   6.829542e+04   26344.625184      8.048211    213.511302\n",
       "std    9.071860e+04   22208.527695      4.031700    134.428868\n",
       "min    4.400000e+03       1.000000      1.000000    100.000000\n",
       "25%    2.500000e+04   12000.000000      5.000000    150.000000\n",
       "50%    4.300000e+04   20373.000000      7.000000    150.000000\n",
       "75%    8.000000e+04   35000.000000     10.000000    220.000000\n",
       "max    1.900000e+06  750000.000000     63.000000   1800.000000"
      ]
     },
     "execution_count": 8,
     "metadata": {},
     "output_type": "execute_result"
    }
   ],
   "source": [
    "df.describe()"
   ]
  },
  {
   "cell_type": "code",
   "execution_count": 9,
   "metadata": {},
   "outputs": [
    {
     "data": {
      "text/html": [
       "<div>\n",
       "<style scoped>\n",
       "    .dataframe tbody tr th:only-of-type {\n",
       "        vertical-align: middle;\n",
       "    }\n",
       "\n",
       "    .dataframe tbody tr th {\n",
       "        vertical-align: top;\n",
       "    }\n",
       "\n",
       "    .dataframe thead th {\n",
       "        text-align: right;\n",
       "    }\n",
       "</style>\n",
       "<table border=\"1\" class=\"dataframe\">\n",
       "  <thead>\n",
       "    <tr style=\"text-align: right;\">\n",
       "      <th></th>\n",
       "      <th>bike_name</th>\n",
       "      <th>price</th>\n",
       "      <th>city</th>\n",
       "      <th>kms_driven</th>\n",
       "      <th>owner</th>\n",
       "      <th>age</th>\n",
       "      <th>power</th>\n",
       "      <th>brand</th>\n",
       "    </tr>\n",
       "  </thead>\n",
       "  <tbody>\n",
       "    <tr>\n",
       "      <th>0</th>\n",
       "      <td>401</td>\n",
       "      <td>35000.0</td>\n",
       "      <td>Ahmedabad</td>\n",
       "      <td>17654.0</td>\n",
       "      <td>First Owner</td>\n",
       "      <td>3.0</td>\n",
       "      <td>110.0</td>\n",
       "      <td>TVS</td>\n",
       "    </tr>\n",
       "    <tr>\n",
       "      <th>1</th>\n",
       "      <td>295</td>\n",
       "      <td>119900.0</td>\n",
       "      <td>Delhi</td>\n",
       "      <td>11000.0</td>\n",
       "      <td>First Owner</td>\n",
       "      <td>4.0</td>\n",
       "      <td>350.0</td>\n",
       "      <td>Royal Enfield</td>\n",
       "    </tr>\n",
       "    <tr>\n",
       "      <th>2</th>\n",
       "      <td>411</td>\n",
       "      <td>600000.0</td>\n",
       "      <td>Delhi</td>\n",
       "      <td>110.0</td>\n",
       "      <td>First Owner</td>\n",
       "      <td>8.0</td>\n",
       "      <td>675.0</td>\n",
       "      <td>Triumph</td>\n",
       "    </tr>\n",
       "    <tr>\n",
       "      <th>3</th>\n",
       "      <td>375</td>\n",
       "      <td>65000.0</td>\n",
       "      <td>Bangalore</td>\n",
       "      <td>16329.0</td>\n",
       "      <td>First Owner</td>\n",
       "      <td>4.0</td>\n",
       "      <td>180.0</td>\n",
       "      <td>TVS</td>\n",
       "    </tr>\n",
       "    <tr>\n",
       "      <th>4</th>\n",
       "      <td>426</td>\n",
       "      <td>80000.0</td>\n",
       "      <td>Bangalore</td>\n",
       "      <td>10000.0</td>\n",
       "      <td>First Owner</td>\n",
       "      <td>3.0</td>\n",
       "      <td>150.0</td>\n",
       "      <td>Yamaha</td>\n",
       "    </tr>\n",
       "    <tr>\n",
       "      <th>...</th>\n",
       "      <td>...</td>\n",
       "      <td>...</td>\n",
       "      <td>...</td>\n",
       "      <td>...</td>\n",
       "      <td>...</td>\n",
       "      <td>...</td>\n",
       "      <td>...</td>\n",
       "      <td>...</td>\n",
       "    </tr>\n",
       "    <tr>\n",
       "      <th>32643</th>\n",
       "      <td>151</td>\n",
       "      <td>39000.0</td>\n",
       "      <td>Delhi</td>\n",
       "      <td>22000.0</td>\n",
       "      <td>First Owner</td>\n",
       "      <td>4.0</td>\n",
       "      <td>100.0</td>\n",
       "      <td>Hero</td>\n",
       "    </tr>\n",
       "    <tr>\n",
       "      <th>32644</th>\n",
       "      <td>375</td>\n",
       "      <td>30000.0</td>\n",
       "      <td>Karnal</td>\n",
       "      <td>6639.0</td>\n",
       "      <td>First Owner</td>\n",
       "      <td>9.0</td>\n",
       "      <td>180.0</td>\n",
       "      <td>TVS</td>\n",
       "    </tr>\n",
       "    <tr>\n",
       "      <th>32645</th>\n",
       "      <td>15</td>\n",
       "      <td>60000.0</td>\n",
       "      <td>Delhi</td>\n",
       "      <td>20373.0</td>\n",
       "      <td>First Owner</td>\n",
       "      <td>6.0</td>\n",
       "      <td>220.0</td>\n",
       "      <td>Bajaj</td>\n",
       "    </tr>\n",
       "    <tr>\n",
       "      <th>32646</th>\n",
       "      <td>176</td>\n",
       "      <td>15600.0</td>\n",
       "      <td>Jaipur</td>\n",
       "      <td>84186.0</td>\n",
       "      <td>First Owner</td>\n",
       "      <td>16.0</td>\n",
       "      <td>125.0</td>\n",
       "      <td>Hero</td>\n",
       "    </tr>\n",
       "    <tr>\n",
       "      <th>32647</th>\n",
       "      <td>56</td>\n",
       "      <td>22000.0</td>\n",
       "      <td>Pune</td>\n",
       "      <td>60857.0</td>\n",
       "      <td>First Owner</td>\n",
       "      <td>13.0</td>\n",
       "      <td>150.0</td>\n",
       "      <td>Bajaj</td>\n",
       "    </tr>\n",
       "  </tbody>\n",
       "</table>\n",
       "<p>32648 rows × 8 columns</p>\n",
       "</div>"
      ],
      "text/plain": [
       "       bike_name     price       city  kms_driven        owner   age  power  \\\n",
       "0            401   35000.0  Ahmedabad     17654.0  First Owner   3.0  110.0   \n",
       "1            295  119900.0      Delhi     11000.0  First Owner   4.0  350.0   \n",
       "2            411  600000.0      Delhi       110.0  First Owner   8.0  675.0   \n",
       "3            375   65000.0  Bangalore     16329.0  First Owner   4.0  180.0   \n",
       "4            426   80000.0  Bangalore     10000.0  First Owner   3.0  150.0   \n",
       "...          ...       ...        ...         ...          ...   ...    ...   \n",
       "32643        151   39000.0      Delhi     22000.0  First Owner   4.0  100.0   \n",
       "32644        375   30000.0     Karnal      6639.0  First Owner   9.0  180.0   \n",
       "32645         15   60000.0      Delhi     20373.0  First Owner   6.0  220.0   \n",
       "32646        176   15600.0     Jaipur     84186.0  First Owner  16.0  125.0   \n",
       "32647         56   22000.0       Pune     60857.0  First Owner  13.0  150.0   \n",
       "\n",
       "               brand  \n",
       "0                TVS  \n",
       "1      Royal Enfield  \n",
       "2            Triumph  \n",
       "3                TVS  \n",
       "4             Yamaha  \n",
       "...              ...  \n",
       "32643           Hero  \n",
       "32644            TVS  \n",
       "32645          Bajaj  \n",
       "32646           Hero  \n",
       "32647          Bajaj  \n",
       "\n",
       "[32648 rows x 8 columns]"
      ]
     },
     "execution_count": 9,
     "metadata": {},
     "output_type": "execute_result"
    }
   ],
   "source": [
    "#Catgorical data  \n",
    "from sklearn.preprocessing import LabelEncoder  \n",
    "le = LabelEncoder() \n",
    "\n",
    "df['bike_name'] = le.fit_transform(df['bike_name'])\n",
    "df['bike_name'].value_counts()\n",
    "df"
   ]
  },
  {
   "cell_type": "code",
   "execution_count": 10,
   "metadata": {},
   "outputs": [
    {
     "data": {
      "text/html": [
       "<div>\n",
       "<style scoped>\n",
       "    .dataframe tbody tr th:only-of-type {\n",
       "        vertical-align: middle;\n",
       "    }\n",
       "\n",
       "    .dataframe tbody tr th {\n",
       "        vertical-align: top;\n",
       "    }\n",
       "\n",
       "    .dataframe thead th {\n",
       "        text-align: right;\n",
       "    }\n",
       "</style>\n",
       "<table border=\"1\" class=\"dataframe\">\n",
       "  <thead>\n",
       "    <tr style=\"text-align: right;\">\n",
       "      <th></th>\n",
       "      <th>bike_name</th>\n",
       "      <th>price</th>\n",
       "      <th>city</th>\n",
       "      <th>kms_driven</th>\n",
       "      <th>owner</th>\n",
       "      <th>age</th>\n",
       "      <th>power</th>\n",
       "      <th>brand</th>\n",
       "    </tr>\n",
       "  </thead>\n",
       "  <tbody>\n",
       "    <tr>\n",
       "      <th>0</th>\n",
       "      <td>401</td>\n",
       "      <td>35000.0</td>\n",
       "      <td>6</td>\n",
       "      <td>17654.0</td>\n",
       "      <td>0</td>\n",
       "      <td>3.0</td>\n",
       "      <td>110.0</td>\n",
       "      <td>19</td>\n",
       "    </tr>\n",
       "    <tr>\n",
       "      <th>1</th>\n",
       "      <td>295</td>\n",
       "      <td>119900.0</td>\n",
       "      <td>118</td>\n",
       "      <td>11000.0</td>\n",
       "      <td>0</td>\n",
       "      <td>4.0</td>\n",
       "      <td>350.0</td>\n",
       "      <td>17</td>\n",
       "    </tr>\n",
       "    <tr>\n",
       "      <th>2</th>\n",
       "      <td>411</td>\n",
       "      <td>600000.0</td>\n",
       "      <td>118</td>\n",
       "      <td>110.0</td>\n",
       "      <td>0</td>\n",
       "      <td>8.0</td>\n",
       "      <td>675.0</td>\n",
       "      <td>20</td>\n",
       "    </tr>\n",
       "    <tr>\n",
       "      <th>3</th>\n",
       "      <td>375</td>\n",
       "      <td>65000.0</td>\n",
       "      <td>44</td>\n",
       "      <td>16329.0</td>\n",
       "      <td>0</td>\n",
       "      <td>4.0</td>\n",
       "      <td>180.0</td>\n",
       "      <td>19</td>\n",
       "    </tr>\n",
       "    <tr>\n",
       "      <th>4</th>\n",
       "      <td>426</td>\n",
       "      <td>80000.0</td>\n",
       "      <td>44</td>\n",
       "      <td>10000.0</td>\n",
       "      <td>0</td>\n",
       "      <td>3.0</td>\n",
       "      <td>150.0</td>\n",
       "      <td>21</td>\n",
       "    </tr>\n",
       "    <tr>\n",
       "      <th>...</th>\n",
       "      <td>...</td>\n",
       "      <td>...</td>\n",
       "      <td>...</td>\n",
       "      <td>...</td>\n",
       "      <td>...</td>\n",
       "      <td>...</td>\n",
       "      <td>...</td>\n",
       "      <td>...</td>\n",
       "    </tr>\n",
       "    <tr>\n",
       "      <th>32643</th>\n",
       "      <td>151</td>\n",
       "      <td>39000.0</td>\n",
       "      <td>118</td>\n",
       "      <td>22000.0</td>\n",
       "      <td>0</td>\n",
       "      <td>4.0</td>\n",
       "      <td>100.0</td>\n",
       "      <td>5</td>\n",
       "    </tr>\n",
       "    <tr>\n",
       "      <th>32644</th>\n",
       "      <td>375</td>\n",
       "      <td>30000.0</td>\n",
       "      <td>224</td>\n",
       "      <td>6639.0</td>\n",
       "      <td>0</td>\n",
       "      <td>9.0</td>\n",
       "      <td>180.0</td>\n",
       "      <td>19</td>\n",
       "    </tr>\n",
       "    <tr>\n",
       "      <th>32645</th>\n",
       "      <td>15</td>\n",
       "      <td>60000.0</td>\n",
       "      <td>118</td>\n",
       "      <td>20373.0</td>\n",
       "      <td>0</td>\n",
       "      <td>6.0</td>\n",
       "      <td>220.0</td>\n",
       "      <td>1</td>\n",
       "    </tr>\n",
       "    <tr>\n",
       "      <th>32646</th>\n",
       "      <td>176</td>\n",
       "      <td>15600.0</td>\n",
       "      <td>191</td>\n",
       "      <td>84186.0</td>\n",
       "      <td>0</td>\n",
       "      <td>16.0</td>\n",
       "      <td>125.0</td>\n",
       "      <td>5</td>\n",
       "    </tr>\n",
       "    <tr>\n",
       "      <th>32647</th>\n",
       "      <td>56</td>\n",
       "      <td>22000.0</td>\n",
       "      <td>330</td>\n",
       "      <td>60857.0</td>\n",
       "      <td>0</td>\n",
       "      <td>13.0</td>\n",
       "      <td>150.0</td>\n",
       "      <td>1</td>\n",
       "    </tr>\n",
       "  </tbody>\n",
       "</table>\n",
       "<p>32648 rows × 8 columns</p>\n",
       "</div>"
      ],
      "text/plain": [
       "       bike_name     price  city  kms_driven  owner   age  power  brand\n",
       "0            401   35000.0     6     17654.0      0   3.0  110.0     19\n",
       "1            295  119900.0   118     11000.0      0   4.0  350.0     17\n",
       "2            411  600000.0   118       110.0      0   8.0  675.0     20\n",
       "3            375   65000.0    44     16329.0      0   4.0  180.0     19\n",
       "4            426   80000.0    44     10000.0      0   3.0  150.0     21\n",
       "...          ...       ...   ...         ...    ...   ...    ...    ...\n",
       "32643        151   39000.0   118     22000.0      0   4.0  100.0      5\n",
       "32644        375   30000.0   224      6639.0      0   9.0  180.0     19\n",
       "32645         15   60000.0   118     20373.0      0   6.0  220.0      1\n",
       "32646        176   15600.0   191     84186.0      0  16.0  125.0      5\n",
       "32647         56   22000.0   330     60857.0      0  13.0  150.0      1\n",
       "\n",
       "[32648 rows x 8 columns]"
      ]
     },
     "execution_count": 10,
     "metadata": {},
     "output_type": "execute_result"
    }
   ],
   "source": [
    "df['city'] = le.fit_transform(df['city'])\n",
    "df['owner'] = le.fit_transform(df['owner'])\n",
    "df['brand'] = le.fit_transform(df['brand'])\n",
    "df"
   ]
  },
  {
   "cell_type": "markdown",
   "metadata": {},
   "source": [
    "# 4 Splitting the Dataset into the Training set and Test set"
   ]
  },
  {
   "cell_type": "code",
   "execution_count": 11,
   "metadata": {},
   "outputs": [
    {
     "name": "stdout",
     "output_type": "stream",
     "text": [
      "(32648, 7)\n",
      "(32648,)\n"
     ]
    }
   ],
   "source": [
    "x = df.drop(\"price\", axis = 1)\n",
    "y = df['price']\n",
    "print(x.shape)\n",
    "print(y.shape)"
   ]
  },
  {
   "cell_type": "code",
   "execution_count": 12,
   "metadata": {
    "id": "Ae0mTytUqSyX"
   },
   "outputs": [
    {
     "data": {
      "text/plain": [
       "[       bike_name  city  kms_driven  owner   age  power  brand\n",
       " 15296        151   118     22000.0      0   4.0  100.0      5\n",
       " 15180          9   118     20245.0      2  11.0  220.0      1\n",
       " 11583         72    14     41939.0      0   8.0  200.0      1\n",
       " 20838         56   118     32588.0      0   9.0  150.0      1\n",
       " 6083         151   258     12000.0      0   9.0  100.0      5\n",
       " ...          ...   ...         ...    ...   ...    ...    ...\n",
       " 13123        257   282     13216.0      0   4.0  390.0     11\n",
       " 19648          9    44     60000.0      0   9.0  220.0      1\n",
       " 9845          15   118     20373.0      0   6.0  220.0      1\n",
       " 10799        356   257     22697.0      0   7.0  125.0     18\n",
       " 2732         354   244     14495.0      0   3.0  150.0     18\n",
       " \n",
       " [26118 rows x 7 columns],\n",
       "        bike_name  city  kms_driven  owner   age  power  brand\n",
       " 9763         194   330       140.0      0   3.0  160.0      6\n",
       " 28214          9   118     20245.0      2  11.0  220.0      1\n",
       " 24114        110   211      3430.0      0   4.0  750.0      4\n",
       " 16697         15   282      8000.0      0   5.0  220.0      1\n",
       " 12930        288   118     20000.0      0   4.0  350.0     17\n",
       " ...          ...   ...         ...    ...   ...    ...    ...\n",
       " 1186          29   330     12000.0      0  10.0  100.0      1\n",
       " 28914        439   215     14500.0      0   4.0  250.0     21\n",
       " 19698        141   118     48587.0      0   8.0  150.0      5\n",
       " 21447        439   215     14500.0      0   4.0  250.0     21\n",
       " 2519         290   118     22550.0      0   6.0  350.0     17\n",
       " \n",
       " [6530 rows x 7 columns],\n",
       " 15296     39000.0\n",
       " 15180     41000.0\n",
       " 11583     48000.0\n",
       " 20838     25000.0\n",
       " 6083      27500.0\n",
       "            ...   \n",
       " 13123    196700.0\n",
       " 19648     35000.0\n",
       " 9845      60000.0\n",
       " 10799     32000.0\n",
       " 2732      98000.0\n",
       " Name: price, Length: 26118, dtype: float64,\n",
       " 9763      87000.0\n",
       " 28214     41000.0\n",
       " 24114    450000.0\n",
       " 16697     70000.0\n",
       " 12930    105000.0\n",
       "            ...   \n",
       " 1186      26000.0\n",
       " 28914    123000.0\n",
       " 19698     25000.0\n",
       " 21447    123000.0\n",
       " 2519     109400.0\n",
       " Name: price, Length: 6530, dtype: float64]"
      ]
     },
     "execution_count": 12,
     "metadata": {},
     "output_type": "execute_result"
    }
   ],
   "source": [
    "from sklearn.model_selection import train_test_split\n",
    "\n",
    "train_test_split(x,y,test_size =0.2,random_state=0)\n"
   ]
  },
  {
   "cell_type": "code",
   "execution_count": 13,
   "metadata": {},
   "outputs": [],
   "source": [
    "x_train, x_test, y_train, y_test = train_test_split(x,y,test_size=0.2,random_state=0)"
   ]
  },
  {
   "cell_type": "code",
   "execution_count": 14,
   "metadata": {},
   "outputs": [
    {
     "name": "stdout",
     "output_type": "stream",
     "text": [
      "(26118, 7) (6530, 7) (26118,) (6530,)\n"
     ]
    }
   ],
   "source": [
    "print(x_train.shape, x_test.shape, y_train.shape, y_test.shape) "
   ]
  },
  {
   "cell_type": "code",
   "execution_count": 15,
   "metadata": {
    "colab": {
     "base_uri": "https://localhost:8080/",
     "height": 408
    },
    "id": "0cw_VBGZq92D",
    "outputId": "fce938ac-e110-44d0-b49f-5bd39359a530",
    "scrolled": true
   },
   "outputs": [
    {
     "data": {
      "text/html": [
       "<div>\n",
       "<style scoped>\n",
       "    .dataframe tbody tr th:only-of-type {\n",
       "        vertical-align: middle;\n",
       "    }\n",
       "\n",
       "    .dataframe tbody tr th {\n",
       "        vertical-align: top;\n",
       "    }\n",
       "\n",
       "    .dataframe thead th {\n",
       "        text-align: right;\n",
       "    }\n",
       "</style>\n",
       "<table border=\"1\" class=\"dataframe\">\n",
       "  <thead>\n",
       "    <tr style=\"text-align: right;\">\n",
       "      <th></th>\n",
       "      <th>bike_name</th>\n",
       "      <th>city</th>\n",
       "      <th>kms_driven</th>\n",
       "      <th>owner</th>\n",
       "      <th>age</th>\n",
       "      <th>power</th>\n",
       "      <th>brand</th>\n",
       "    </tr>\n",
       "  </thead>\n",
       "  <tbody>\n",
       "    <tr>\n",
       "      <th>15296</th>\n",
       "      <td>151</td>\n",
       "      <td>118</td>\n",
       "      <td>22000.0</td>\n",
       "      <td>0</td>\n",
       "      <td>4.0</td>\n",
       "      <td>100.0</td>\n",
       "      <td>5</td>\n",
       "    </tr>\n",
       "    <tr>\n",
       "      <th>15180</th>\n",
       "      <td>9</td>\n",
       "      <td>118</td>\n",
       "      <td>20245.0</td>\n",
       "      <td>2</td>\n",
       "      <td>11.0</td>\n",
       "      <td>220.0</td>\n",
       "      <td>1</td>\n",
       "    </tr>\n",
       "    <tr>\n",
       "      <th>11583</th>\n",
       "      <td>72</td>\n",
       "      <td>14</td>\n",
       "      <td>41939.0</td>\n",
       "      <td>0</td>\n",
       "      <td>8.0</td>\n",
       "      <td>200.0</td>\n",
       "      <td>1</td>\n",
       "    </tr>\n",
       "    <tr>\n",
       "      <th>20838</th>\n",
       "      <td>56</td>\n",
       "      <td>118</td>\n",
       "      <td>32588.0</td>\n",
       "      <td>0</td>\n",
       "      <td>9.0</td>\n",
       "      <td>150.0</td>\n",
       "      <td>1</td>\n",
       "    </tr>\n",
       "    <tr>\n",
       "      <th>6083</th>\n",
       "      <td>151</td>\n",
       "      <td>258</td>\n",
       "      <td>12000.0</td>\n",
       "      <td>0</td>\n",
       "      <td>9.0</td>\n",
       "      <td>100.0</td>\n",
       "      <td>5</td>\n",
       "    </tr>\n",
       "    <tr>\n",
       "      <th>...</th>\n",
       "      <td>...</td>\n",
       "      <td>...</td>\n",
       "      <td>...</td>\n",
       "      <td>...</td>\n",
       "      <td>...</td>\n",
       "      <td>...</td>\n",
       "      <td>...</td>\n",
       "    </tr>\n",
       "    <tr>\n",
       "      <th>13123</th>\n",
       "      <td>257</td>\n",
       "      <td>282</td>\n",
       "      <td>13216.0</td>\n",
       "      <td>0</td>\n",
       "      <td>4.0</td>\n",
       "      <td>390.0</td>\n",
       "      <td>11</td>\n",
       "    </tr>\n",
       "    <tr>\n",
       "      <th>19648</th>\n",
       "      <td>9</td>\n",
       "      <td>44</td>\n",
       "      <td>60000.0</td>\n",
       "      <td>0</td>\n",
       "      <td>9.0</td>\n",
       "      <td>220.0</td>\n",
       "      <td>1</td>\n",
       "    </tr>\n",
       "    <tr>\n",
       "      <th>9845</th>\n",
       "      <td>15</td>\n",
       "      <td>118</td>\n",
       "      <td>20373.0</td>\n",
       "      <td>0</td>\n",
       "      <td>6.0</td>\n",
       "      <td>220.0</td>\n",
       "      <td>1</td>\n",
       "    </tr>\n",
       "    <tr>\n",
       "      <th>10799</th>\n",
       "      <td>356</td>\n",
       "      <td>257</td>\n",
       "      <td>22697.0</td>\n",
       "      <td>0</td>\n",
       "      <td>7.0</td>\n",
       "      <td>125.0</td>\n",
       "      <td>18</td>\n",
       "    </tr>\n",
       "    <tr>\n",
       "      <th>2732</th>\n",
       "      <td>354</td>\n",
       "      <td>244</td>\n",
       "      <td>14495.0</td>\n",
       "      <td>0</td>\n",
       "      <td>3.0</td>\n",
       "      <td>150.0</td>\n",
       "      <td>18</td>\n",
       "    </tr>\n",
       "  </tbody>\n",
       "</table>\n",
       "<p>26118 rows × 7 columns</p>\n",
       "</div>"
      ],
      "text/plain": [
       "       bike_name  city  kms_driven  owner   age  power  brand\n",
       "15296        151   118     22000.0      0   4.0  100.0      5\n",
       "15180          9   118     20245.0      2  11.0  220.0      1\n",
       "11583         72    14     41939.0      0   8.0  200.0      1\n",
       "20838         56   118     32588.0      0   9.0  150.0      1\n",
       "6083         151   258     12000.0      0   9.0  100.0      5\n",
       "...          ...   ...         ...    ...   ...    ...    ...\n",
       "13123        257   282     13216.0      0   4.0  390.0     11\n",
       "19648          9    44     60000.0      0   9.0  220.0      1\n",
       "9845          15   118     20373.0      0   6.0  220.0      1\n",
       "10799        356   257     22697.0      0   7.0  125.0     18\n",
       "2732         354   244     14495.0      0   3.0  150.0     18\n",
       "\n",
       "[26118 rows x 7 columns]"
      ]
     },
     "execution_count": 15,
     "metadata": {},
     "output_type": "execute_result"
    }
   ],
   "source": [
    "x_train"
   ]
  },
  {
   "cell_type": "code",
   "execution_count": 16,
   "metadata": {
    "colab": {
     "base_uri": "https://localhost:8080/"
    },
    "id": "3c-VcDOTrI73",
    "outputId": "965c3f94-9066-4e3b-c0bb-1ec6d4b2c519"
   },
   "outputs": [
    {
     "data": {
      "text/plain": [
       "15296     39000.0\n",
       "15180     41000.0\n",
       "11583     48000.0\n",
       "20838     25000.0\n",
       "6083      27500.0\n",
       "           ...   \n",
       "13123    196700.0\n",
       "19648     35000.0\n",
       "9845      60000.0\n",
       "10799     32000.0\n",
       "2732      98000.0\n",
       "Name: price, Length: 26118, dtype: float64"
      ]
     },
     "execution_count": 16,
     "metadata": {},
     "output_type": "execute_result"
    }
   ],
   "source": [
    "y_train"
   ]
  },
  {
   "cell_type": "code",
   "execution_count": 17,
   "metadata": {
    "colab": {
     "base_uri": "https://localhost:8080/",
     "height": 349
    },
    "id": "23S65zxtrM9e",
    "outputId": "b4b600a2-a887-4f67-a299-c6da78122fa5"
   },
   "outputs": [
    {
     "data": {
      "text/html": [
       "<div>\n",
       "<style scoped>\n",
       "    .dataframe tbody tr th:only-of-type {\n",
       "        vertical-align: middle;\n",
       "    }\n",
       "\n",
       "    .dataframe tbody tr th {\n",
       "        vertical-align: top;\n",
       "    }\n",
       "\n",
       "    .dataframe thead th {\n",
       "        text-align: right;\n",
       "    }\n",
       "</style>\n",
       "<table border=\"1\" class=\"dataframe\">\n",
       "  <thead>\n",
       "    <tr style=\"text-align: right;\">\n",
       "      <th></th>\n",
       "      <th>bike_name</th>\n",
       "      <th>city</th>\n",
       "      <th>kms_driven</th>\n",
       "      <th>owner</th>\n",
       "      <th>age</th>\n",
       "      <th>power</th>\n",
       "      <th>brand</th>\n",
       "    </tr>\n",
       "  </thead>\n",
       "  <tbody>\n",
       "    <tr>\n",
       "      <th>9763</th>\n",
       "      <td>194</td>\n",
       "      <td>330</td>\n",
       "      <td>140.0</td>\n",
       "      <td>0</td>\n",
       "      <td>3.0</td>\n",
       "      <td>160.0</td>\n",
       "      <td>6</td>\n",
       "    </tr>\n",
       "    <tr>\n",
       "      <th>28214</th>\n",
       "      <td>9</td>\n",
       "      <td>118</td>\n",
       "      <td>20245.0</td>\n",
       "      <td>2</td>\n",
       "      <td>11.0</td>\n",
       "      <td>220.0</td>\n",
       "      <td>1</td>\n",
       "    </tr>\n",
       "    <tr>\n",
       "      <th>24114</th>\n",
       "      <td>110</td>\n",
       "      <td>211</td>\n",
       "      <td>3430.0</td>\n",
       "      <td>0</td>\n",
       "      <td>4.0</td>\n",
       "      <td>750.0</td>\n",
       "      <td>4</td>\n",
       "    </tr>\n",
       "    <tr>\n",
       "      <th>16697</th>\n",
       "      <td>15</td>\n",
       "      <td>282</td>\n",
       "      <td>8000.0</td>\n",
       "      <td>0</td>\n",
       "      <td>5.0</td>\n",
       "      <td>220.0</td>\n",
       "      <td>1</td>\n",
       "    </tr>\n",
       "    <tr>\n",
       "      <th>12930</th>\n",
       "      <td>288</td>\n",
       "      <td>118</td>\n",
       "      <td>20000.0</td>\n",
       "      <td>0</td>\n",
       "      <td>4.0</td>\n",
       "      <td>350.0</td>\n",
       "      <td>17</td>\n",
       "    </tr>\n",
       "    <tr>\n",
       "      <th>...</th>\n",
       "      <td>...</td>\n",
       "      <td>...</td>\n",
       "      <td>...</td>\n",
       "      <td>...</td>\n",
       "      <td>...</td>\n",
       "      <td>...</td>\n",
       "      <td>...</td>\n",
       "    </tr>\n",
       "    <tr>\n",
       "      <th>1186</th>\n",
       "      <td>29</td>\n",
       "      <td>330</td>\n",
       "      <td>12000.0</td>\n",
       "      <td>0</td>\n",
       "      <td>10.0</td>\n",
       "      <td>100.0</td>\n",
       "      <td>1</td>\n",
       "    </tr>\n",
       "    <tr>\n",
       "      <th>28914</th>\n",
       "      <td>439</td>\n",
       "      <td>215</td>\n",
       "      <td>14500.0</td>\n",
       "      <td>0</td>\n",
       "      <td>4.0</td>\n",
       "      <td>250.0</td>\n",
       "      <td>21</td>\n",
       "    </tr>\n",
       "    <tr>\n",
       "      <th>19698</th>\n",
       "      <td>141</td>\n",
       "      <td>118</td>\n",
       "      <td>48587.0</td>\n",
       "      <td>0</td>\n",
       "      <td>8.0</td>\n",
       "      <td>150.0</td>\n",
       "      <td>5</td>\n",
       "    </tr>\n",
       "    <tr>\n",
       "      <th>21447</th>\n",
       "      <td>439</td>\n",
       "      <td>215</td>\n",
       "      <td>14500.0</td>\n",
       "      <td>0</td>\n",
       "      <td>4.0</td>\n",
       "      <td>250.0</td>\n",
       "      <td>21</td>\n",
       "    </tr>\n",
       "    <tr>\n",
       "      <th>2519</th>\n",
       "      <td>290</td>\n",
       "      <td>118</td>\n",
       "      <td>22550.0</td>\n",
       "      <td>0</td>\n",
       "      <td>6.0</td>\n",
       "      <td>350.0</td>\n",
       "      <td>17</td>\n",
       "    </tr>\n",
       "  </tbody>\n",
       "</table>\n",
       "<p>6530 rows × 7 columns</p>\n",
       "</div>"
      ],
      "text/plain": [
       "       bike_name  city  kms_driven  owner   age  power  brand\n",
       "9763         194   330       140.0      0   3.0  160.0      6\n",
       "28214          9   118     20245.0      2  11.0  220.0      1\n",
       "24114        110   211      3430.0      0   4.0  750.0      4\n",
       "16697         15   282      8000.0      0   5.0  220.0      1\n",
       "12930        288   118     20000.0      0   4.0  350.0     17\n",
       "...          ...   ...         ...    ...   ...    ...    ...\n",
       "1186          29   330     12000.0      0  10.0  100.0      1\n",
       "28914        439   215     14500.0      0   4.0  250.0     21\n",
       "19698        141   118     48587.0      0   8.0  150.0      5\n",
       "21447        439   215     14500.0      0   4.0  250.0     21\n",
       "2519         290   118     22550.0      0   6.0  350.0     17\n",
       "\n",
       "[6530 rows x 7 columns]"
      ]
     },
     "execution_count": 17,
     "metadata": {},
     "output_type": "execute_result"
    }
   ],
   "source": [
    "x_test"
   ]
  },
  {
   "cell_type": "code",
   "execution_count": 18,
   "metadata": {},
   "outputs": [
    {
     "data": {
      "text/plain": [
       "9763      87000.0\n",
       "28214     41000.0\n",
       "24114    450000.0\n",
       "16697     70000.0\n",
       "12930    105000.0\n",
       "           ...   \n",
       "1186      26000.0\n",
       "28914    123000.0\n",
       "19698     25000.0\n",
       "21447    123000.0\n",
       "2519     109400.0\n",
       "Name: price, Length: 6530, dtype: float64"
      ]
     },
     "execution_count": 18,
     "metadata": {},
     "output_type": "execute_result"
    }
   ],
   "source": [
    "y_test"
   ]
  },
  {
   "cell_type": "code",
   "execution_count": 19,
   "metadata": {},
   "outputs": [],
   "source": [
    "from sklearn.linear_model import LinearRegression,Lasso,Ridge\n",
    "from sklearn.preprocessing import OneHotEncoder,StandardScaler\n",
    "from sklearn.compose import make_column_transformer\n",
    "from sklearn.pipeline import make_pipeline\n",
    "from sklearn.metrics import r2_score\n"
   ]
  },
  {
   "cell_type": "markdown",
   "metadata": {},
   "source": [
    "# 5 Feature Scaling "
   ]
  },
  {
   "cell_type": "code",
   "execution_count": 20,
   "metadata": {},
   "outputs": [],
   "source": [
    "#from sklearn.compose import ColumnTransformer"
   ]
  },
  {
   "cell_type": "code",
   "execution_count": 21,
   "metadata": {},
   "outputs": [],
   "source": [
    "#transformer =  make_column_transformer((LabelEncoder(),[0]),remainder='passthrough')"
   ]
  },
  {
   "cell_type": "code",
   "execution_count": 22,
   "metadata": {
    "id": "3yIDZ20wrd29"
   },
   "outputs": [],
   "source": [
    "scaler = StandardScaler()"
   ]
  },
  {
   "cell_type": "code",
   "execution_count": 23,
   "metadata": {},
   "outputs": [],
   "source": [
    "x_train= scaler.fit_transform(x_train)  \n",
    "x_test= scaler.transform(x_test)  \n"
   ]
  },
  {
   "cell_type": "code",
   "execution_count": 24,
   "metadata": {},
   "outputs": [
    {
     "data": {
      "text/plain": [
       "array([[-0.26232668, -0.57474291, -0.19600484, ..., -1.00576034,\n",
       "        -0.84458001, -0.45063111],\n",
       "       [-1.24002894, -0.57474291, -0.27414007, ...,  0.73148884,\n",
       "         0.04707253, -0.96958361],\n",
       "       [-0.80625962, -1.6564144 ,  0.69170928, ..., -0.01304652,\n",
       "        -0.10153623, -0.96958361],\n",
       "       ...,\n",
       "       [-1.19871757, -0.57474291, -0.26844132, ..., -0.50940343,\n",
       "         0.04707253, -0.96958361],\n",
       "       [ 1.14914489,  0.87095264, -0.16497336, ..., -0.26122498,\n",
       "        -0.65881906,  1.23596452],\n",
       "       [ 1.13537443,  0.7357437 , -0.53013868, ..., -1.25393879,\n",
       "        -0.47305812,  1.23596452]])"
      ]
     },
     "execution_count": 24,
     "metadata": {},
     "output_type": "execute_result"
    }
   ],
   "source": [
    "x_train"
   ]
  },
  {
   "cell_type": "code",
   "execution_count": 25,
   "metadata": {},
   "outputs": [
    {
     "data": {
      "text/plain": [
       "array([[ 0.03373809,  1.63020282, -1.16924476, ..., -1.25393879,\n",
       "        -0.39875374, -0.32089298],\n",
       "       [-1.24002894, -0.57474291, -0.27414007, ...,  0.73148884,\n",
       "         0.04707253, -0.96958361],\n",
       "       [-0.54462099,  0.39252102, -1.02276904, ..., -1.00576034,\n",
       "         3.98520456, -0.58036923],\n",
       "       ...,\n",
       "       [-0.33117895, -0.57474291,  0.98768819, ..., -0.01304652,\n",
       "        -0.47305812, -0.45063111],\n",
       "       [ 1.72061874,  0.43412377, -0.52991607, ..., -1.00576034,\n",
       "         0.26998566,  1.62517889],\n",
       "       [ 0.69471989, -0.57474291, -0.17151802, ..., -0.50940343,\n",
       "         1.01302944,  1.10622639]])"
      ]
     },
     "execution_count": 25,
     "metadata": {},
     "output_type": "execute_result"
    }
   ],
   "source": [
    "x_test"
   ]
  },
  {
   "cell_type": "markdown",
   "metadata": {},
   "source": [
    "# 6 Applying Linear Regression"
   ]
  },
  {
   "cell_type": "code",
   "execution_count": 26,
   "metadata": {},
   "outputs": [],
   "source": [
    "lr = LinearRegression(normalize =True)"
   ]
  },
  {
   "cell_type": "code",
   "execution_count": 27,
   "metadata": {},
   "outputs": [],
   "source": [
    "pipe = make_pipeline(scaler,lr)"
   ]
  },
  {
   "cell_type": "code",
   "execution_count": 28,
   "metadata": {},
   "outputs": [
    {
     "data": {
      "text/plain": [
       "Pipeline(steps=[('standardscaler', StandardScaler()),\n",
       "                ('linearregression', LinearRegression(normalize=True))])"
      ]
     },
     "execution_count": 28,
     "metadata": {},
     "output_type": "execute_result"
    }
   ],
   "source": [
    "pipe.fit(x_train,y_train)"
   ]
  },
  {
   "cell_type": "markdown",
   "metadata": {},
   "source": [
    "# 8 testing model"
   ]
  },
  {
   "cell_type": "code",
   "execution_count": 29,
   "metadata": {},
   "outputs": [
    {
     "data": {
      "text/plain": [
       "array([ 95159.67205605,  30874.07246623, 421475.27178519, ...,\n",
       "        35794.70077374, 110333.7386566 , 111488.33694994])"
      ]
     },
     "execution_count": 29,
     "metadata": {},
     "output_type": "execute_result"
    }
   ],
   "source": [
    "pipe.predict(x_test)"
   ]
  },
  {
   "cell_type": "code",
   "execution_count": 30,
   "metadata": {},
   "outputs": [],
   "source": [
    "predict = pipe.predict(x_test)"
   ]
  },
  {
   "cell_type": "code",
   "execution_count": 31,
   "metadata": {},
   "outputs": [
    {
     "data": {
      "text/plain": [
       "0.8523406197241166"
      ]
     },
     "execution_count": 31,
     "metadata": {},
     "output_type": "execute_result"
    }
   ],
   "source": [
    "r2_score(y_test,predict)"
   ]
  },
  {
   "cell_type": "markdown",
   "metadata": {},
   "source": [
    "# Applying Lasso and Ridge"
   ]
  },
  {
   "cell_type": "code",
   "execution_count": 32,
   "metadata": {},
   "outputs": [
    {
     "data": {
      "text/plain": [
       "0.8523406197241166"
      ]
     },
     "execution_count": 32,
     "metadata": {},
     "output_type": "execute_result"
    }
   ],
   "source": [
    "ridge = Lasso()\n",
    "pipe = make_pipeline(scaler,lr)\n",
    "pipe.fit(x_train,y_train)\n",
    "pipe.predict(x_test)\n",
    "predict = pipe.predict(x_test)\n",
    "r2_score(y_test,predict)"
   ]
  },
  {
   "cell_type": "code",
   "execution_count": 33,
   "metadata": {},
   "outputs": [
    {
     "data": {
      "text/plain": [
       "0.8523406197241166"
      ]
     },
     "execution_count": 33,
     "metadata": {},
     "output_type": "execute_result"
    }
   ],
   "source": [
    "ridge = Ridge()\n",
    "pipe = make_pipeline(scaler,lr)\n",
    "pipe.fit(x_train,y_train)\n",
    "pipe.predict(x_test)\n",
    "predict = pipe.predict(x_test)\n",
    "r2_score(y_test,predict)"
   ]
  },
  {
   "cell_type": "code",
   "execution_count": 34,
   "metadata": {
    "id": "nlP68FcQufbl"
   },
   "outputs": [],
   "source": [
    "import pickle"
   ]
  },
  {
   "cell_type": "code",
   "execution_count": 35,
   "metadata": {
    "id": "N1Av-pnauwA8"
   },
   "outputs": [],
   "source": [
    "pickle.dump(pipe,open('model.pkl','wb'))"
   ]
  },
  {
   "cell_type": "code",
   "execution_count": null,
   "metadata": {
    "id": "hcYKQypgu6w4"
   },
   "outputs": [],
   "source": []
  }
 ],
 "metadata": {
  "colab": {
   "name": "end-to-end-ml.ipynb",
   "provenance": []
  },
  "kernelspec": {
   "display_name": "Python 3",
   "language": "python",
   "name": "python3"
  },
  "language_info": {
   "codemirror_mode": {
    "name": "ipython",
    "version": 3
   },
   "file_extension": ".py",
   "mimetype": "text/x-python",
   "name": "python",
   "nbconvert_exporter": "python",
   "pygments_lexer": "ipython3",
   "version": "3.8.8"
  }
 },
 "nbformat": 4,
 "nbformat_minor": 1
}
